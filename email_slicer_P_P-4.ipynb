{
 "cells": [
  {
   "cell_type": "code",
   "execution_count": null,
   "id": "e3290fda",
   "metadata": {},
   "outputs": [
    {
     "name": "stdout",
     "output_type": "stream",
     "text": [
      "Welcome to the email slicer\n",
      " \n",
      "Input your email address: anuragtiwaribadkhara@gmail.com \n",
      "Username :  anuragtiwaribadkhara\n",
      "Domain :  gmail\n",
      "Extension :  com \n",
      "Welcome to the email slicer\n",
      " \n"
     ]
    }
   ],
   "source": [
    "def main():\n",
    "    print(\"Welcome to the email slicer\")\n",
    "    print(\" \")\n",
    "    \n",
    "    email_input = input(\"Input your email address: \")\n",
    "    \n",
    "    (username,domain)=email_input.split(\"@\")\n",
    "    (domain,extension) = domain.split(\".\")\n",
    "    \n",
    "    print(\"Username : \", username)\n",
    "    print(\"Domain : \", domain)\n",
    "    print(\"Extension : \", extension)\n",
    "while True:\n",
    "        main()\n",
    "        \n"
   ]
  },
  {
   "cell_type": "code",
   "execution_count": null,
   "id": "39e075c2",
   "metadata": {},
   "outputs": [],
   "source": []
  },
  {
   "cell_type": "code",
   "execution_count": null,
   "id": "8ed58652",
   "metadata": {},
   "outputs": [],
   "source": []
  }
 ],
 "metadata": {
  "kernelspec": {
   "display_name": "Python 3 (ipykernel)",
   "language": "python",
   "name": "python3"
  },
  "language_info": {
   "codemirror_mode": {
    "name": "ipython",
    "version": 3
   },
   "file_extension": ".py",
   "mimetype": "text/x-python",
   "name": "python",
   "nbconvert_exporter": "python",
   "pygments_lexer": "ipython3",
   "version": "3.9.13"
  }
 },
 "nbformat": 4,
 "nbformat_minor": 5
}
